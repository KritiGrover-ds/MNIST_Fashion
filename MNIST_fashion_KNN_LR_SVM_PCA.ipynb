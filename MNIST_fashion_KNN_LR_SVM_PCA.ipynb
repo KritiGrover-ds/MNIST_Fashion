{
  "nbformat": 4,
  "nbformat_minor": 0,
  "metadata": {
    "kernelspec": {
      "display_name": "Python 2",
      "language": "python",
      "name": "python2"
    },
    "language_info": {
      "codemirror_mode": {
        "name": "ipython",
        "version": 2
      },
      "file_extension": ".py",
      "mimetype": "text/x-python",
      "name": "python",
      "nbconvert_exporter": "python",
      "pygments_lexer": "ipython2",
      "version": "2.7.15"
    },
    "colab": {
      "name": " MNIST-fashion_KNN_LR_SVM_PCA.ipynb",
      "provenance": [],
      "collapsed_sections": [
        "edESjYjreZ99",
        "jPnbtItPjndV",
        "M6gYsdiDjndi",
        "FqQm-evZjndm",
        "Q5J4f7Wtjnd8"
      ]
    }
  },
  "cells": [
    {
      "cell_type": "markdown",
      "metadata": {
        "id": "hwh4kU0DjncR"
      },
      "source": [
        "### Machine Learning using MNIST Dataset\n",
        "1. Dataset: https://www.kaggle.com/zalando-research/fashionmnist/data\n",
        "---Download the dataset and upload the folder to your google drive\n",
        "2. Problem statement:Clothes recognizing\n",
        "3. Type of problem: Classification, Supervised\n",
        "4. Data type: Images stored in csv file\n",
        "5. Performance Measures: Accuracy, Precision, Recall, Confusion Matrix\n",
        "6. Feature Importance: Not required\n",
        "7. Interpretability: We can provide nearest neighbors of the query image to justify why image is classified as 'this'"
      ]
    },
    {
      "cell_type": "code",
      "metadata": {
        "id": "GgNi0qnyj0kU",
        "colab": {
          "base_uri": "https://localhost:8080/"
        },
        "outputId": "f93e8836-3439-4e1a-a706-f51a95e16bdb"
      },
      "source": [
        "#Connect to your google drive\n",
        "from google.colab import drive\n",
        "drive.mount('/gdrive')"
      ],
      "execution_count": null,
      "outputs": [
        {
          "output_type": "stream",
          "text": [
            "Drive already mounted at /gdrive; to attempt to forcibly remount, call drive.mount(\"/gdrive\", force_remount=True).\n"
          ],
          "name": "stdout"
        }
      ]
    },
    {
      "cell_type": "code",
      "metadata": {
        "id": "70MwLzS7czJz",
        "colab": {
          "base_uri": "https://localhost:8080/"
        },
        "outputId": "b4e913a7-a522-4592-8810-d6a0270e59c2"
      },
      "source": [
        "#checking the available files\n",
        "%cd /gdrive/My\\ Drive/MNIST-fashion\n",
        "!ls\n"
      ],
      "execution_count": null,
      "outputs": [
        {
          "output_type": "stream",
          "text": [
            "/gdrive/My Drive/MNIST-fashion\n",
            "fashion-mnist_test.csv\tfashion-mnist_train.csv\n"
          ],
          "name": "stdout"
        }
      ]
    },
    {
      "cell_type": "markdown",
      "metadata": {
        "id": "jccb1GFkjncU"
      },
      "source": [
        "### Classification Algorithms:\n",
        "1. K-Nearest Neighbor\n",
        "2. Logistic Regression (one-vs-rest)\n",
        "3. SVM Classifier\n",
        "4. Decision Tree\n",
        "5. Random Forest\n",
        "6. XGBoost\n",
        "\n",
        "### Other Libraries:\n",
        "1. GridsearchCV for hyperparameter tuning\n",
        "2. randomsearchCV for hyperparameter tuning\n",
        "3. Reference Link: https://stackoverflow.com/questions/57426633/what-is-randomsearchcv-and-gridsearchcv"
      ]
    },
    {
      "cell_type": "markdown",
      "metadata": {
        "id": "PHr4QTPAjncX"
      },
      "source": [
        "#Data Visualization\n",
        "1. Principal Component Analysis\n",
        "2. t-SNE\n",
        "- Reference Link: https://www.datacamp.com/community/tutorials/introduction-t-sne"
      ]
    },
    {
      "cell_type": "markdown",
      "metadata": {
        "id": "k9EopxSfh0HC"
      },
      "source": [
        "#Import Library that going to require in this Tutorial"
      ]
    },
    {
      "cell_type": "code",
      "metadata": {
        "id": "_j-5pbnujncZ"
      },
      "source": [
        "import numpy as np\n",
        "import pandas as pd\n",
        "import matplotlib.pyplot as plt\n",
        "import matplotlib.patheffects as path_effects\n",
        "import seaborn as sns\n",
        "import random\n",
        "\n",
        "from tqdm import tqdm\n",
        "\n",
        "from sklearn.decomposition import PCA\n",
        "from sklearn.manifold import TSNE\n",
        "from sklearn.preprocessing import StandardScaler\n",
        "from sklearn import preprocessing\n",
        "from random import randint\n",
        "\n",
        "from sklearn.model_selection import train_test_split\n",
        "from sklearn.metrics import accuracy_score\n",
        "from sklearn.metrics import confusion_matrix\n",
        "\n",
        "from sklearn.model_selection import GridSearchCV\n",
        "from sklearn.model_selection import RandomizedSearchCV\n",
        "#from pactools.grid_search import GridSearchCVProgressBar\n",
        "\n",
        "from sklearn.multiclass import OneVsRestClassifier\n",
        "from sklearn.neighbors import KNeighborsClassifier\n",
        "from sklearn.svm import SVC\n",
        "from sklearn.linear_model import LogisticRegression\n",
        "from sklearn.tree import DecisionTreeClassifier\n",
        "from sklearn.ensemble import RandomForestClassifier\n",
        "from xgboost import XGBClassifier"
      ],
      "execution_count": null,
      "outputs": []
    },
    {
      "cell_type": "markdown",
      "metadata": {
        "id": "b3v6xRJajncj"
      },
      "source": [
        "#Read data from two files train.csv and test.csv\n",
        "1. train.csv file contains images (28 x 28) representaed as rows (784 dimensional) and a label as digit\n",
        "2. train.csv file contains images (28 x 28) representaed as rows (784 dimensional)\n",
        "3. sample_submission.csv is the file which contains test image number and corresponding predicted digit \n",
        "   Soultion is submitted in sample_submission.csv file"
      ]
    },
    {
      "cell_type": "code",
      "metadata": {
        "id": "15qSPxwzjncl"
      },
      "source": [
        "#%%timeit -n 10\n",
        "# 10 loops, best of 3: 7.07 s per loop\n",
        "mnist_train = pd.read_csv(\"fashion-mnist_train.csv\")\n",
        "mnist_test  = pd.read_csv(\"fashion-mnist_test.csv\")"
      ],
      "execution_count": null,
      "outputs": []
    },
    {
      "cell_type": "code",
      "metadata": {
        "id": "wyWupynZjnct",
        "colab": {
          "base_uri": "https://localhost:8080/",
          "height": 296
        },
        "outputId": "81b74e77-b5f8-46f7-ac28-adf4e0b261e9"
      },
      "source": [
        "# VISUALIZE DATA\n",
        "samples = mnist_train.iloc[5000:5030,1:].values\n",
        "plt.figure(figsize=(15,4.5))\n",
        "for i in range(30):  \n",
        "    plt.subplot(3, 10, i+1)\n",
        "    plt.imshow(samples[i].reshape((28,28)),cmap=plt.cm.binary)\n",
        "    plt.axis('off')\n",
        "plt.subplots_adjust(wspace=-0.1, hspace=-0.1)\n",
        "plt.show()"
      ],
      "execution_count": null,
      "outputs": [
        {
          "output_type": "display_data",
          "data": {
            "image/png": "[encoded data removed]",
            "text/plain": [
              "<Figure size 1080x324 with 30 Axes>"
            ]
          },
          "metadata": {
            "tags": [],
            "needs_background": "light"
          }
        }
      ]
    },
    {
      "cell_type": "code",
      "metadata": {
        "id": "Iimq2fhujncy",
        "colab": {
          "base_uri": "https://localhost:8080/",
          "height": 233
        },
        "outputId": "728a8f2b-b674-4ced-f52e-535955ad36fe"
      },
      "source": [
        "mnist_train.head()"
      ],
      "execution_count": null,
      "outputs": [
        {
          "output_type": "execute_result",
          "data": {
            "text/plain": [
              "   label  pixel1  pixel2  pixel3  pixel4  pixel5  pixel6  pixel7  pixel8  \\\n",
              "0      2       0       0       0       0       0       0       0       0   \n",
              "1      9       0       0       0       0       0       0       0       0   \n",
              "2      6       0       0       0       0       0       0       0       5   \n",
              "3      0       0       0       0       1       2       0       0       0   \n",
              "4      3       0       0       0       0       0       0       0       0   \n",
              "\n",
              "   pixel9  ...  pixel775  pixel776  pixel777  pixel778  pixel779  pixel780  \\\n",
              "0       0  ...         0         0         0         0         0         0   \n",
              "1       0  ...         0         0         0         0         0         0   \n",
              "2       0  ...         0         0         0        30        43         0   \n",
              "3       0  ...         3         0         0         0         0         1   \n",
              "4       0  ...         0         0         0         0         0         0   \n",
              "\n",
              "   pixel781  pixel782  pixel783  pixel784  \n",
              "0         0         0         0         0  \n",
              "1         0         0         0         0  \n",
              "2         0         0         0         0  \n",
              "3         0         0         0         0  \n",
              "4         0         0         0         0  \n",
              "\n",
              "[5 rows x 785 columns]"
            ],
            "text/html": [
              "<div>\n",
              "<style scoped>\n",
              "    .dataframe tbody tr th:only-of-type {\n",
              "        vertical-align: middle;\n",
              "    }\n",
              "\n",
              "    .dataframe tbody tr th {\n",
              "        vertical-align: top;\n",
              "    }\n",
              "\n",
              "    .dataframe thead th {\n",
              "        text-align: right;\n",
              "    }\n",
              "</style>\n",
              "<table border=\"1\" class=\"dataframe\">\n",
              "  <thead>\n",
              "    <tr style=\"text-align: right;\">\n",
              "      <th></th>\n",
              "      <th>label</th>\n",
              "      <th>pixel1</th>\n",
              "      <th>pixel2</th>\n",
              "      <th>pixel3</th>\n",
              "      <th>pixel4</th>\n",
              "      <th>pixel5</th>\n",
              "      <th>pixel6</th>\n",
              "      <th>pixel7</th>\n",
              "      <th>pixel8</th>\n",
              "      <th>pixel9</th>\n",
              "      <th>...</th>\n",
              "      <th>pixel775</th>\n",
              "      <th>pixel776</th>\n",
              "      <th>pixel777</th>\n",
              "      <th>pixel778</th>\n",
              "      <th>pixel779</th>\n",
              "      <th>pixel780</th>\n",
              "      <th>pixel781</th>\n",
              "      <th>pixel782</th>\n",
              "      <th>pixel783</th>\n",
              "      <th>pixel784</th>\n",
              "    </tr>\n",
              "  </thead>\n",
              "  <tbody>\n",
              "    <tr>\n",
              "      <th>0</th>\n",
              "      <td>2</td>\n",
              "      <td>0</td>\n",
              "      <td>0</td>\n",
              "      <td>0</td>\n",
              "      <td>0</td>\n",
              "      <td>0</td>\n",
              "      <td>0</td>\n",
              "      <td>0</td>\n",
              "      <td>0</td>\n",
              "      <td>0</td>\n",
              "      <td>...</td>\n",
              "      <td>0</td>\n",
              "      <td>0</td>\n",
              "      <td>0</td>\n",
              "      <td>0</td>\n",
              "      <td>0</td>\n",
              "      <td>0</td>\n",
              "      <td>0</td>\n",
              "      <td>0</td>\n",
              "      <td>0</td>\n",
              "      <td>0</td>\n",
              "    </tr>\n",
              "    <tr>\n",
              "      <th>1</th>\n",
              "      <td>9</td>\n",
              "      <td>0</td>\n",
              "      <td>0</td>\n",
              "      <td>0</td>\n",
              "      <td>0</td>\n",
              "      <td>0</td>\n",
              "      <td>0</td>\n",
              "      <td>0</td>\n",
              "      <td>0</td>\n",
              "      <td>0</td>\n",
              "      <td>...</td>\n",
              "      <td>0</td>\n",
              "      <td>0</td>\n",
              "      <td>0</td>\n",
              "      <td>0</td>\n",
              "      <td>0</td>\n",
              "      <td>0</td>\n",
              "      <td>0</td>\n",
              "      <td>0</td>\n",
              "      <td>0</td>\n",
              "      <td>0</td>\n",
              "    </tr>\n",
              "    <tr>\n",
              "      <th>2</th>\n",
              "      <td>6</td>\n",
              "      <td>0</td>\n",
              "      <td>0</td>\n",
              "      <td>0</td>\n",
              "      <td>0</td>\n",
              "      <td>0</td>\n",
              "      <td>0</td>\n",
              "      <td>0</td>\n",
              "      <td>5</td>\n",
              "      <td>0</td>\n",
              "      <td>...</td>\n",
              "      <td>0</td>\n",
              "      <td>0</td>\n",
              "      <td>0</td>\n",
              "      <td>30</td>\n",
              "      <td>43</td>\n",
              "      <td>0</td>\n",
              "      <td>0</td>\n",
              "      <td>0</td>\n",
              "      <td>0</td>\n",
              "      <td>0</td>\n",
              "    </tr>\n",
              "    <tr>\n",
              "      <th>3</th>\n",
              "      <td>0</td>\n",
              "      <td>0</td>\n",
              "      <td>0</td>\n",
              "      <td>0</td>\n",
              "      <td>1</td>\n",
              "      <td>2</td>\n",
              "      <td>0</td>\n",
              "      <td>0</td>\n",
              "      <td>0</td>\n",
              "      <td>0</td>\n",
              "      <td>...</td>\n",
              "      <td>3</td>\n",
              "      <td>0</td>\n",
              "      <td>0</td>\n",
              "      <td>0</td>\n",
              "      <td>0</td>\n",
              "      <td>1</td>\n",
              "      <td>0</td>\n",
              "      <td>0</td>\n",
              "      <td>0</td>\n",
              "      <td>0</td>\n",
              "    </tr>\n",
              "    <tr>\n",
              "      <th>4</th>\n",
              "      <td>3</td>\n",
              "      <td>0</td>\n",
              "      <td>0</td>\n",
              "      <td>0</td>\n",
              "      <td>0</td>\n",
              "      <td>0</td>\n",
              "      <td>0</td>\n",
              "      <td>0</td>\n",
              "      <td>0</td>\n",
              "      <td>0</td>\n",
              "      <td>...</td>\n",
              "      <td>0</td>\n",
              "      <td>0</td>\n",
              "      <td>0</td>\n",
              "      <td>0</td>\n",
              "      <td>0</td>\n",
              "      <td>0</td>\n",
              "      <td>0</td>\n",
              "      <td>0</td>\n",
              "      <td>0</td>\n",
              "      <td>0</td>\n",
              "    </tr>\n",
              "  </tbody>\n",
              "</table>\n",
              "<p>5 rows × 785 columns</p>\n",
              "</div>"
            ]
          },
          "metadata": {
            "tags": []
          },
          "execution_count": 8
        }
      ]
    },
    {
      "cell_type": "code",
      "metadata": {
        "id": "UPGj_WQ3jnc2",
        "colab": {
          "base_uri": "https://localhost:8080/"
        },
        "outputId": "00a537a3-acff-4e58-f84c-021b948a6dbb"
      },
      "source": [
        "print(mnist_train.shape, mnist_test.shape)"
      ],
      "execution_count": null,
      "outputs": [
        {
          "output_type": "stream",
          "text": [
            "((60000, 785), (10000, 785))\n"
          ],
          "name": "stdout"
        }
      ]
    },
    {
      "cell_type": "markdown",
      "metadata": {
        "id": "SVqVLjSqjnc7"
      },
      "source": [
        "### Check whether data is balanced or imbalanced"
      ]
    },
    {
      "cell_type": "code",
      "metadata": {
        "id": "7URCOLHdjnc8",
        "colab": {
          "base_uri": "https://localhost:8080/",
          "height": 265
        },
        "outputId": "b790b472-9e59-44c0-ff4e-0a5f661d18cd"
      },
      "source": [
        "#%%timeit\n",
        "#345 ms\n",
        "_ = mnist_train['label'].value_counts().plot(kind='bar')\n",
        "plt.show()"
      ],
      "execution_count": null,
      "outputs": [
        {
          "output_type": "display_data",
          "data": {
            "image/png": "[encoded data removed]",
            "text/plain": [
              "<Figure size 432x288 with 1 Axes>"
            ]
          },
          "metadata": {
            "tags": [],
            "needs_background": "light"
          }
        }
      ]
    },
    {
      "cell_type": "markdown",
      "metadata": {
        "id": "d_3DwqUAjndF"
      },
      "source": [
        "From above figure one can conclude that dataset is balanced"
      ]
    },
    {
      "cell_type": "code",
      "metadata": {
        "id": "SotzWtYEjndG"
      },
      "source": [
        "#%%time\n",
        "#Wall time: 14.6 s\n",
        "X_raw = mnist_train.drop(['label'], axis = 1, inplace = False)\n",
        "y = mnist_train['label']"
      ],
      "execution_count": null,
      "outputs": []
    },
    {
      "cell_type": "code",
      "metadata": {
        "id": "tUicJ9ORjndK",
        "colab": {
          "base_uri": "https://localhost:8080/"
        },
        "outputId": "405a9a6b-88bd-43e6-c5fb-caa1ad540ea2"
      },
      "source": [
        "#Data is being Scaled now to make it uniform\n",
        "#%%time\n",
        "# Wall time: 28.5 s\n",
        "arr = X_raw.values #returns a numpy array\n",
        "min_max_scaler = preprocessing.MinMaxScaler()\n",
        "x_scaled = min_max_scaler.fit_transform(arr)\n",
        "X = pd.DataFrame(x_scaled)"
      ],
      "execution_count": null,
      "outputs": [
        {
          "output_type": "stream",
          "text": [
            "/usr/local/lib/python2.7/dist-packages/sklearn/utils/validation.py:595: DataConversionWarning: Data with input dtype int64 was converted to float64 by MinMaxScaler.\n",
            "  warnings.warn(msg, DataConversionWarning)\n"
          ],
          "name": "stderr"
        }
      ]
    },
    {
      "cell_type": "markdown",
      "metadata": {
        "id": "edESjYjreZ99"
      },
      "source": [
        "#Principal Component Analysis for data visualization\n",
        "\n",
        "we convert 784 dimensional data into 2 dimensional to visualize the data in 2D"
      ]
    },
    {
      "cell_type": "code",
      "metadata": {
        "id": "YGjvkvZhjndP"
      },
      "source": [
        "# %%timeit -n 3\n",
        "# 3 loops, best of 3: 1.66 s per loop\n",
        "pca = PCA(n_components = 2)\n",
        "principal_components = pca.fit_transform(X)\n",
        "principal_DF = pd.DataFrame(data = principal_components, columns = ['component1', 'component2'])\n",
        "final_DF = pd.concat( [principal_DF, mnist_train[['label']]], axis = 1)"
      ],
      "execution_count": null,
      "outputs": []
    },
    {
      "cell_type": "code",
      "metadata": {
        "id": "e8dPJTNGjndS",
        "outputId": "20448d1e-639c-4a15-f1bf-d5f76a6423b2"
      },
      "source": [
        "fig = plt.figure(figsize = (8,8))\n",
        "ax = plt.subplot(1,1,1)\n",
        "ax.set_xlabel('Principal Component 1', fontsize = 15)\n",
        "ax.set_ylabel('Principal Component 2', fontsize = 15)\n",
        "ax.set_title('2D visualization of MNIST Data using PCA', fontsize = 20)\n",
        "\n",
        "targets = list(mnist_train['label'].unique())\n",
        "random.seed(10)\n",
        "colors = []\n",
        "for i in range(10):\n",
        "    colors.append('#%06X' % randint(0, 0xFFFFFF))\n",
        "print(colors)\n",
        "for target, color in zip(targets,colors):\n",
        "    indicesToKeep = final_DF['label'] == target\n",
        "    ax.scatter(final_DF.loc[indicesToKeep, 'component1'], final_DF.loc[indicesToKeep,'component2'], c = color, s=50)\n",
        "ax.legend(targets)\n",
        "ax.grid()\n"
      ],
      "execution_count": null,
      "outputs": [
        {
          "output_type": "stream",
          "text": [
            "['#924770', '#6DCBAC', '#93FDCA', '#34C2DA', '#D035D2', '#D2D6B8', '#A749F9', '#2904CD', '#854A96', '#53E8EB']\n"
          ],
          "name": "stdout"
        },
        {
          "output_type": "display_data",
          "data": {
            "image/png": "[encoded data removed]",
            "text/plain": [
              "<Figure size 576x576 with 1 Axes>"
            ]
          },
          "metadata": {
            "tags": [],
            "needs_background": "light"
          }
        }
      ]
    },
    {
      "cell_type": "markdown",
      "metadata": {
        "id": "OazhJyjMfkud"
      },
      "source": [
        "From above figure it is obvious conclusion is that data is not seperable. However this is not the case as PCA has some drawbacks."
      ]
    },
    {
      "cell_type": "markdown",
      "metadata": {
        "id": "jPnbtItPjndV"
      },
      "source": [
        "# Next technique we try is t-SNE"
      ]
    },
    {
      "cell_type": "code",
      "metadata": {
        "id": "pPbLgzQojndV"
      },
      "source": [
        "%%time\n",
        "# Wall time: 1h 17min 10s\n",
        "tsneData = TSNE(random_state=10).fit_transform(X)"
      ],
      "execution_count": null,
      "outputs": []
    },
    {
      "cell_type": "code",
      "metadata": {
        "id": "QX1N_FWUjndb"
      },
      "source": [
        "def ScatterPlotTsne(X,y):\n",
        "    num_digits= len(np.unique(y))\n",
        "    palette = np.array(sns.color_palette(\"hls\", num_digits))\n",
        "    # create a scatter plot.\n",
        "    f = plt.figure(figsize=(8, 8))\n",
        "    ax = plt.subplot(aspect='equal')\n",
        "    sc = ax.scatter(X[:,0], X[:,1], lw=0, s=40, c=palette[y.astype(np.int)])\n",
        "    plt.xlim(-25, 25)\n",
        "    plt.ylim(-25, 25)\n",
        "    ax.axis('off')\n",
        "    ax.axis('tight')\n",
        "    \n",
        "    txts = []\n",
        "    for i in range(num_digits):\n",
        "        xtext, ytext = np.median(X[y == i, :], axis = 0)\n",
        "        txt = ax.text(xtext, ytext, str(i), fontsize=24)\n",
        "        txt.set_path_effects([\n",
        "            path_effects.Stroke(linewidth=5, foreground=\"w\"),\n",
        "            path_effects.Normal()])\n",
        "        txts.append(txt)\n",
        "\n",
        "    return f, ax, sc, txts"
      ],
      "execution_count": null,
      "outputs": []
    },
    {
      "cell_type": "code",
      "metadata": {
        "id": "pm72ujm2jndf"
      },
      "source": [
        "ScatterPlotTsne(tsneData,y)"
      ],
      "execution_count": null,
      "outputs": []
    },
    {
      "cell_type": "markdown",
      "metadata": {
        "id": "M6gYsdiDjndi"
      },
      "source": [
        "#### From above figure we can say data is seperable as seperate clusters are formed for each digit"
      ]
    },
    {
      "cell_type": "markdown",
      "metadata": {
        "id": "lj2tGq2ljndj"
      },
      "source": [
        "#Divide data into 3 parts\n",
        "1. Train - To calculate nearest neighbors\n",
        "2. cross-validation: To find optimal value of k (Hyperparameter)\n",
        "3. Test: To test final accuracy of the model"
      ]
    },
    {
      "cell_type": "code",
      "metadata": {
        "id": "goFrRtOMjndj",
        "colab": {
          "base_uri": "https://localhost:8080/"
        },
        "outputId": "e540b5e3-e110-4321-ba2c-1c214715d54c"
      },
      "source": [
        "X_1, X_test, y_1, y_test = train_test_split(X,y,test_size = 0.25, random_state = 10)\n",
        "X_train, X_cv, y_train, y_cv = train_test_split(X_1,y_1,test_size = 0.20, random_state = 10)\n",
        "print(X_train.shape, X_test.shape, X_cv. shape, y_train.shape, y_test.shape, y_cv.shape)"
      ],
      "execution_count": null,
      "outputs": [
        {
          "output_type": "stream",
          "text": [
            "((36000, 784), (15000, 784), (9000, 784), (36000,), (15000,), (9000,))\n"
          ],
          "name": "stdout"
        }
      ]
    },
    {
      "cell_type": "markdown",
      "metadata": {
        "id": "FqQm-evZjndm"
      },
      "source": [
        "# KNN Classifier"
      ]
    },
    {
      "cell_type": "code",
      "metadata": {
        "id": "lVF2veOSjndm"
      },
      "source": [
        "def trainKNN(X_train, y_train, k): \n",
        "    \"\"\"Function to train model using KNN classifier\n",
        "    Takes argumenst as training dataset, k-value and returns classifier\n",
        "    \"\"\"\n",
        "    classifier = KNeighborsClassifier(n_neighbors=k, n_jobs = -1)\n",
        "    classifier.fit(X_train,y_train)\n",
        "    return classifier"
      ],
      "execution_count": null,
      "outputs": []
    },
    {
      "cell_type": "code",
      "metadata": {
        "id": "sorJ-fEvjndp"
      },
      "source": [
        "def predictClassifier(X_test, classifier):\n",
        "    \"\"\"Function to predict labels using classifier\n",
        "       Takes argumenst as test/cv dataset, and returns predicted values by model\n",
        "    \"\"\"\n",
        "    y_pred = classifier.predict(X_test)\n",
        "    return y_pred"
      ],
      "execution_count": null,
      "outputs": []
    },
    {
      "cell_type": "code",
      "metadata": {
        "id": "02P_AS7vjndr"
      },
      "source": [
        "def calculateAccuracy(y_pred, y_test):\n",
        "    \"\"\"Function to check accuracy of the model. Takes input arguments as actual and predicted values\n",
        "       and returns accuracy score\n",
        "    \"\"\"\n",
        "    accuracy = accuracy_score(y_pred, y_test)\n",
        "    return accuracy"
      ],
      "execution_count": null,
      "outputs": []
    },
    {
      "cell_type": "code",
      "metadata": {
        "id": "YIRTg2G9jndu",
        "outputId": "4955119d-5b73-475a-a8d8-dd9e4ab1a9cc"
      },
      "source": [
        "#%%time\n",
        "# Wall time: 17min 52s\n",
        "kvalues = [x for x in range(1,50, 6)]\n",
        "AccuracyList = []\n",
        "for k in tqdm(kvalues):\n",
        "    knnClassifier = trainKNN(X_train, y_train, k)\n",
        "    y_pred = predictClassifier(X_cv, knnClassifier)\n",
        "    acc = calculateAccuracy(y_pred, y_cv)\n",
        "    AccuracyList.append(acc)     "
      ],
      "execution_count": null,
      "outputs": [
        {
          "output_type": "stream",
          "text": [
            "100%|██████████| 9/9 [17:51<00:00, 118.83s/it]\n"
          ],
          "name": "stderr"
        },
        {
          "output_type": "stream",
          "text": [
            "Wall time: 17min 52s\n"
          ],
          "name": "stdout"
        }
      ]
    },
    {
      "cell_type": "code",
      "metadata": {
        "id": "LOD7jN5kjndy",
        "outputId": "ac33dcc4-6aff-44fb-c5c0-75102e4f6e59"
      },
      "source": [
        "AccuracyList"
      ],
      "execution_count": null,
      "outputs": [
        {
          "output_type": "execute_result",
          "data": {
            "text/plain": [
              "[0.9633333333333334,\n",
              " 0.9652380952380952,\n",
              " 0.9611111111111111,\n",
              " 0.9568253968253968,\n",
              " 0.9555555555555556,\n",
              " 0.9517460317460318,\n",
              " 0.947936507936508,\n",
              " 0.9457142857142857,\n",
              " 0.9442857142857143]"
            ]
          },
          "metadata": {
            "tags": []
          },
          "execution_count": 30
        }
      ]
    },
    {
      "cell_type": "code",
      "metadata": {
        "id": "hBvZPh4Zjnd1",
        "outputId": "b6bcb42f-c042-426c-b1cb-cc47b7d1b1c9"
      },
      "source": [
        "f = plt.figure(figsize = (4,4))\n",
        "ax = plt.subplot()\n",
        "plt.plot(kvalues,AccuracyList)\n",
        "ax.set_xlabel('K values', fontsize = 10)\n",
        "ax.set_ylabel('Accuracy', fontsize = 10)\n",
        "plt.show()"
      ],
      "execution_count": null,
      "outputs": [
        {
          "output_type": "display_data",
          "data": {
            "image/png": "[encoded data removed]",
            "text/plain": [
              "<Figure size 288x288 with 1 Axes>"
            ]
          },
          "metadata": {
            "tags": [],
            "needs_background": "light"
          }
        }
      ]
    },
    {
      "cell_type": "code",
      "metadata": {
        "scrolled": true,
        "id": "4fkdcEKgjnd4",
        "outputId": "7b20d45c-e923-4207-aa13-b2d87a70418d"
      },
      "source": [
        "#%%time\n",
        "# Wall time: 3min 49s\n",
        "clf = trainKNN(X_train,y_train, 7)\n",
        "y_pred = predictClassifier(X_test, knnClassifier)\n",
        "acc = calculateAccuracy(y_pred, y_test)\n",
        "print(\"Final Accuracy: \",acc)"
      ],
      "execution_count": null,
      "outputs": [
        {
          "output_type": "stream",
          "text": [
            "('Final Accuracy: ', 0.9406666666666667)\n",
            "Wall time: 3min 49s\n"
          ],
          "name": "stdout"
        }
      ]
    },
    {
      "cell_type": "code",
      "metadata": {
        "id": "wXmZ5Kdxjnd6",
        "outputId": "97846434-583d-4950-8f90-7b1863cb1521"
      },
      "source": [
        "num_digits= np.unique(y)\n",
        "cf = confusion_matrix(y_pred,y_test, labels = num_digits )\n",
        "print(\"################# Confusion Matrix ####################\")\n",
        "fig = plt.figure(figsize = (13,10))\n",
        "ax= plt.subplot()\n",
        "sns.heatmap(cf, annot=True, ax = ax); #annot=True to annotate cells\n"
      ],
      "execution_count": null,
      "outputs": [
        {
          "output_type": "stream",
          "text": [
            "################# Confusion Matrix ####################\n"
          ],
          "name": "stdout"
        },
        {
          "output_type": "display_data",
          "data": {
            "image/png": "[encoded data removed]",
            "text/plain": [
              "<Figure size 936x720 with 2 Axes>"
            ]
          },
          "metadata": {
            "tags": [],
            "needs_background": "light"
          }
        }
      ]
    },
    {
      "cell_type": "markdown",
      "metadata": {
        "id": "Q5J4f7Wtjnd8"
      },
      "source": [
        "# SVM Classifier\n",
        "GridSearch SVM Classifier One-vs-Rest\n",
        "\n",
        "*   List item\n",
        "*   List item\n"
      ]
    },
    {
      "cell_type": "code",
      "metadata": {
        "id": "ccnp0Y9hjnd9"
      },
      "source": [
        "params_grid = [{'kernel': ['rbf'], 'gamma': [1e-3, 1e-4],\n",
        "                     'C': [1, 10, 100, 1000]},\n",
        "                    {'kernel': ['linear'], 'C': [1, 10, 100, 1000]}]"
      ],
      "execution_count": null,
      "outputs": []
    },
    {
      "cell_type": "code",
      "metadata": {
        "id": "H5osRWMojnd_",
        "colab": {
          "base_uri": "https://localhost:8080/",
          "height": 51
        },
        "outputId": "a7f6ff64-81b2-4a95-c365-876efad4fc5c"
      },
      "source": [
        "%%time \n",
        "#Wall time: 8h 21min 8s\n",
        "svm_model = GridSearchCV(SVC(), params_grid, cv=5)\n",
        "svm_model.fit(X_1, y_1)"
      ],
      "execution_count": null,
      "outputs": [
        {
          "output_type": "stream",
          "text": [
            "CPU times: user 8h 44min 22s, sys: 8.01 s, total: 8h 44min 30s\n",
            "Wall time: 8h 45min 35s\n"
          ],
          "name": "stdout"
        }
      ]
    },
    {
      "cell_type": "code",
      "metadata": {
        "id": "U6h2rek-jneB",
        "colab": {
          "base_uri": "https://localhost:8080/",
          "height": 85
        },
        "outputId": "2dbb5b90-e228-4055-e295-afa28fcdc6a5"
      },
      "source": [
        "svm_model.best_estimator_ "
      ],
      "execution_count": null,
      "outputs": [
        {
          "output_type": "execute_result",
          "data": {
            "text/plain": [
              "SVC(C=100, cache_size=200, class_weight=None, coef0=0.0,\n",
              "  decision_function_shape='ovr', degree=3, gamma=0.001, kernel='rbf',\n",
              "  max_iter=-1, probability=False, random_state=None, shrinking=True,\n",
              "  tol=0.001, verbose=False)"
            ]
          },
          "metadata": {
            "tags": []
          },
          "execution_count": 11
        }
      ]
    },
    {
      "cell_type": "code",
      "metadata": {
        "id": "JoNrQH8EjneE",
        "colab": {
          "base_uri": "https://localhost:8080/",
          "height": 34
        },
        "outputId": "5c016bd4-2e9f-4ec3-8dbb-b86b07f996c0"
      },
      "source": [
        "svm_model.best_score_"
      ],
      "execution_count": null,
      "outputs": [
        {
          "output_type": "execute_result",
          "data": {
            "text/plain": [
              "0.9580634920634921"
            ]
          },
          "metadata": {
            "tags": []
          },
          "execution_count": 12
        }
      ]
    },
    {
      "cell_type": "code",
      "metadata": {
        "id": "YG0VXMwxjneG",
        "colab": {
          "base_uri": "https://localhost:8080/",
          "height": 1000
        },
        "outputId": "4cc24234-da8e-4e2f-fbce-b95937a4aa90"
      },
      "source": [
        "svm_model.cv_results_ "
      ],
      "execution_count": null,
      "outputs": [
        {
          "output_type": "stream",
          "text": [
            "/usr/local/lib/python2.7/dist-packages/sklearn/utils/deprecation.py:125: FutureWarning: You are accessing a training score ('mean_train_score'), which will not be available by default any more in 0.21. If you need training scores, please set return_train_score=True\n",
            "  warnings.warn(*warn_args, **warn_kwargs)\n",
            "/usr/local/lib/python2.7/dist-packages/sklearn/utils/deprecation.py:125: FutureWarning: You are accessing a training score ('split0_train_score'), which will not be available by default any more in 0.21. If you need training scores, please set return_train_score=True\n",
            "  warnings.warn(*warn_args, **warn_kwargs)\n",
            "/usr/local/lib/python2.7/dist-packages/sklearn/utils/deprecation.py:125: FutureWarning: You are accessing a training score ('split1_train_score'), which will not be available by default any more in 0.21. If you need training scores, please set return_train_score=True\n",
            "  warnings.warn(*warn_args, **warn_kwargs)\n",
            "/usr/local/lib/python2.7/dist-packages/sklearn/utils/deprecation.py:125: FutureWarning: You are accessing a training score ('split2_train_score'), which will not be available by default any more in 0.21. If you need training scores, please set return_train_score=True\n",
            "  warnings.warn(*warn_args, **warn_kwargs)\n",
            "/usr/local/lib/python2.7/dist-packages/sklearn/utils/deprecation.py:125: FutureWarning: You are accessing a training score ('split3_train_score'), which will not be available by default any more in 0.21. If you need training scores, please set return_train_score=True\n",
            "  warnings.warn(*warn_args, **warn_kwargs)\n",
            "/usr/local/lib/python2.7/dist-packages/sklearn/utils/deprecation.py:125: FutureWarning: You are accessing a training score ('split4_train_score'), which will not be available by default any more in 0.21. If you need training scores, please set return_train_score=True\n",
            "  warnings.warn(*warn_args, **warn_kwargs)\n",
            "/usr/local/lib/python2.7/dist-packages/sklearn/utils/deprecation.py:125: FutureWarning: You are accessing a training score ('std_train_score'), which will not be available by default any more in 0.21. If you need training scores, please set return_train_score=True\n",
            "  warnings.warn(*warn_args, **warn_kwargs)\n"
          ],
          "name": "stderr"
        },
        {
          "output_type": "execute_result",
          "data": {
            "text/plain": [
              "{'mean_fit_time': array([260.90355101, 681.93191972, 129.78901763, 261.29173818,\n",
              "        105.52576118, 131.28756318, 105.39877357, 108.07780185,\n",
              "        112.20931163, 125.42438302, 166.75273962, 234.97747235]),\n",
              " 'mean_score_time': array([ 93.40327959, 163.21239161,  56.95983992,  94.27920403,\n",
              "         45.70829444,  57.5851666 ,  45.50176482,  46.14670396,\n",
              "         42.701018  ,  41.90453553,  41.78323345,  41.87667642]),\n",
              " 'mean_test_score': array([0.92765079, 0.88765079, 0.94688889, 0.92387302, 0.95806349,\n",
              "        0.93819048, 0.95749206, 0.93980952, 0.92647619, 0.9152381 ,\n",
              "        0.91019048, 0.90812698]),\n",
              " 'mean_train_score': array([0.93200784, 0.88887292, 0.96046819, 0.92800784, 0.99191267,\n",
              "        0.95099989, 0.99992063, 0.97454759, 0.983873  , 0.99475396,\n",
              "        0.99888887, 0.99980951]),\n",
              " 'param_C': masked_array(data=[1, 1, 10, 10, 100, 100, 1000, 1000, 1, 10, 100, 1000],\n",
              "              mask=[False, False, False, False, False, False, False, False,\n",
              "                    False, False, False, False],\n",
              "        fill_value='?',\n",
              "             dtype=object),\n",
              " 'param_gamma': masked_array(data=[0.001, 0.0001, 0.001, 0.0001, 0.001, 0.0001, 0.001,\n",
              "                    0.0001, --, --, --, --],\n",
              "              mask=[False, False, False, False, False, False, False, False,\n",
              "                     True,  True,  True,  True],\n",
              "        fill_value='?',\n",
              "             dtype=object),\n",
              " 'param_kernel': masked_array(data=['rbf', 'rbf', 'rbf', 'rbf', 'rbf', 'rbf', 'rbf', 'rbf',\n",
              "                    'linear', 'linear', 'linear', 'linear'],\n",
              "              mask=[False, False, False, False, False, False, False, False,\n",
              "                    False, False, False, False],\n",
              "        fill_value='?',\n",
              "             dtype=object),\n",
              " 'params': [{'C': 1, 'gamma': 0.001, 'kernel': 'rbf'},\n",
              "  {'C': 1, 'gamma': 0.0001, 'kernel': 'rbf'},\n",
              "  {'C': 10, 'gamma': 0.001, 'kernel': 'rbf'},\n",
              "  {'C': 10, 'gamma': 0.0001, 'kernel': 'rbf'},\n",
              "  {'C': 100, 'gamma': 0.001, 'kernel': 'rbf'},\n",
              "  {'C': 100, 'gamma': 0.0001, 'kernel': 'rbf'},\n",
              "  {'C': 1000, 'gamma': 0.001, 'kernel': 'rbf'},\n",
              "  {'C': 1000, 'gamma': 0.0001, 'kernel': 'rbf'},\n",
              "  {'C': 1, 'kernel': 'linear'},\n",
              "  {'C': 10, 'kernel': 'linear'},\n",
              "  {'C': 100, 'kernel': 'linear'},\n",
              "  {'C': 1000, 'kernel': 'linear'}],\n",
              " 'rank_test_score': array([ 6, 12,  3,  8,  1,  5,  2,  4,  7,  9, 10, 11], dtype=int32),\n",
              " 'split0_test_score': array([0.9332276 , 0.89405234, 0.95083267, 0.92926249, 0.9590801 ,\n",
              "        0.94131642, 0.95733545, 0.94115781, 0.92815226, 0.92038065,\n",
              "        0.91546392, 0.91403648]),\n",
              " 'split0_train_score': array([0.93077992, 0.88751736, 0.95979361, 0.92708871, 0.99166501,\n",
              "        0.94999008, 0.99988093, 0.97487597, 0.98416352, 0.99519746,\n",
              "        0.99880929, 0.99964279]),\n",
              " 'split1_test_score': array([0.92970486, 0.88749603, 0.94938115, 0.92668994, 0.96334497,\n",
              "        0.9419232 , 0.96144081, 0.94509679, 0.93113297, 0.91875595,\n",
              "        0.9144716 , 0.91177404]),\n",
              " 'split1_train_score': array([0.93174061, 0.88876101, 0.96023494, 0.92709739, 0.99154695,\n",
              "        0.95011509, 0.99996031, 0.97341059, 0.98297484, 0.99372966,\n",
              "        0.99845226, 0.9997222 ]),\n",
              " 'split2_test_score': array([0.92760756, 0.88490237, 0.94761073, 0.92363867, 0.95856485,\n",
              "        0.93872043, 0.9569773 , 0.93935545, 0.92713129, 0.91347833,\n",
              "        0.90744563, 0.90458803]),\n",
              " 'split2_train_score': array([0.93194714, 0.88901234, 0.96023967, 0.92782032, 0.99206381,\n",
              "        0.95083528, 0.99988096, 0.97412801, 0.98384985, 0.99488116,\n",
              "        0.99924606, 0.99992064]),\n",
              " 'split3_test_score': array([0.92537313, 0.88932995, 0.94331534, 0.92124484, 0.95347729,\n",
              "        0.93521753, 0.95379486, 0.93664655, 0.92267386, 0.90949508,\n",
              "        0.90695459, 0.90425532]),\n",
              " 'split3_train_score': array([0.93250536, 0.8890961 , 0.96063804, 0.92901357, 0.99198476,\n",
              "        0.95159114, 0.99988096, 0.97504166, 0.98432664, 0.99531783,\n",
              "        0.99880962, 0.99976192]),\n",
              " 'split4_test_score': array([0.92233164, 0.88246506, 0.94329733, 0.9185197 , 0.95584498,\n",
              "        0.93376747, 0.95790978, 0.93678526, 0.92328463, 0.91407243,\n",
              "        0.90660737, 0.90597205]),\n",
              " 'split4_train_score': array([0.93306618, 0.88997778, 0.96143469, 0.9290192 , 0.99230281,\n",
              "        0.95246786, 1.        , 0.9752817 , 0.98405015, 0.99464371,\n",
              "        0.99912712, 1.        ]),\n",
              " 'std_fit_time': array([ 1.3329329 ,  4.59229357,  0.45908406,  1.48136954,  1.63882239,\n",
              "         1.15704331,  1.2433182 ,  0.93858361,  1.65428502,  1.92846806,\n",
              "        13.74985384, 43.27076754]),\n",
              " 'std_score_time': array([0.24937285, 0.96594027, 0.55730157, 1.33648027, 0.38970581,\n",
              "        0.3131934 , 0.78939715, 0.79001305, 0.38547362, 0.39835015,\n",
              "        0.45275325, 0.53720856]),\n",
              " 'std_test_score': array([0.0037097 , 0.00395683, 0.00309701, 0.00381069, 0.00332065,\n",
              "        0.00323678, 0.0024383 , 0.00313468, 0.00314852, 0.00390569,\n",
              "        0.00392419, 0.00401007]),\n",
              " 'std_train_score': array([7.68179091e-04, 7.92467199e-04, 5.52206980e-04, 8.65244057e-04,\n",
              "        2.73983504e-04, 9.31043877e-04, 5.01958816e-05, 6.86975924e-04,\n",
              "        4.75143252e-04, 5.64298899e-04, 2.78422112e-04, 1.31392661e-04])}"
            ]
          },
          "metadata": {
            "tags": []
          },
          "execution_count": 13
        }
      ]
    },
    {
      "cell_type": "code",
      "metadata": {
        "id": "pSz7bUAjjneI",
        "colab": {
          "base_uri": "https://localhost:8080/",
          "height": 51
        },
        "outputId": "71ad9799-fb4d-4218-8bc0-6929d095643a"
      },
      "source": [
        "%%time\n",
        "#Wall time: 6min 14s\n",
        "bestModel = svm_model.best_estimator_\n",
        "bestModel.fit(X_train,y_train)\n",
        "yPred = bestModel.predict(X_test)\n",
        "accuracy = accuracy_score(y_test,yPred)"
      ],
      "execution_count": null,
      "outputs": [
        {
          "output_type": "stream",
          "text": [
            "CPU times: user 3min 1s, sys: 37.7 ms, total: 3min 1s\n",
            "Wall time: 3min 2s\n"
          ],
          "name": "stdout"
        }
      ]
    },
    {
      "cell_type": "code",
      "metadata": {
        "id": "rzSswHrejneK",
        "colab": {
          "base_uri": "https://localhost:8080/",
          "height": 34
        },
        "outputId": "9b9638cd-2e40-457b-fc61-10b0f0b58ef4"
      },
      "source": [
        "print(\"svm accuracy = \",accuracy)"
      ],
      "execution_count": null,
      "outputs": [
        {
          "output_type": "stream",
          "text": [
            "('svm accuracy = ', 0.9581904761904761)\n"
          ],
          "name": "stdout"
        }
      ]
    },
    {
      "cell_type": "markdown",
      "metadata": {
        "id": "E7wqIq9ljneN"
      },
      "source": [
        "#Logistic Regression"
      ]
    },
    {
      "cell_type": "code",
      "metadata": {
        "id": "6xA39fb_jneN",
        "colab": {
          "base_uri": "https://localhost:8080/",
          "height": 1000
        },
        "outputId": "f0a83653-2ff4-4a1e-e6e6-9065ba186a76"
      },
      "source": [
        "#%time\n",
        "logistic = LogisticRegression(solver='saga', tol=1e-3,n_jobs=2,multi_class = \"multinomial\")\n",
        "randVals = []\n",
        "for i in range(4):\n",
        "    randVals.append(random.uniform(0,4))\n",
        "distributions = dict(C=randVals, penalty=['l2', 'l1'])\n",
        "clf = RandomizedSearchCV(logistic, distributions, random_state=0, verbose = 1000)\n",
        "search = clf.fit(X_1, y_1)"
      ],
      "execution_count": null,
      "outputs": [
        {
          "output_type": "stream",
          "text": [
            "/usr/local/lib/python2.7/dist-packages/sklearn/model_selection/_split.py:2053: FutureWarning: You should specify a value for 'cv' instead of relying on the default value. The default value will change from 3 to 5 in version 0.22.\n",
            "  warnings.warn(CV_WARNING, FutureWarning)\n",
            "/usr/local/lib/python2.7/dist-packages/sklearn/model_selection/_search.py:271: UserWarning: The total space of parameters 8 is smaller than n_iter=10. Running 8 iterations. For exhaustive searches, use GridSearchCV.\n",
            "  % (grid_size, self.n_iter, grid_size), UserWarning)\n"
          ],
          "name": "stderr"
        },
        {
          "output_type": "stream",
          "text": [
            "Fitting 3 folds for each of 8 candidates, totalling 24 fits\n",
            "[Parallel(n_jobs=1)]: Using backend SequentialBackend with 1 concurrent workers.\n",
            "[CV] penalty=l2, C=2.06981934682 .....................................\n",
            "[CV]  penalty=l2, C=2.06981934682, score=0.848297007265, total= 2.2min\n",
            "[Parallel(n_jobs=1)]: Done   1 out of   1 | elapsed:  2.2min remaining:    0.0s\n",
            "[CV] penalty=l2, C=2.06981934682 .....................................\n",
            "[CV]  penalty=l2, C=2.06981934682, score=0.848533333333, total= 2.2min\n",
            "[Parallel(n_jobs=1)]: Done   2 out of   2 | elapsed:  4.4min remaining:    0.0s\n",
            "[CV] penalty=l2, C=2.06981934682 .....................................\n",
            "[CV]  penalty=l2, C=2.06981934682, score=0.850303394012, total= 2.2min\n",
            "[Parallel(n_jobs=1)]: Done   3 out of   3 | elapsed:  6.6min remaining:    0.0s\n",
            "[CV] penalty=l1, C=2.06981934682 .....................................\n",
            "[CV]  penalty=l1, C=2.06981934682, score=0.847963740585, total= 6.1min\n",
            "[Parallel(n_jobs=1)]: Done   4 out of   4 | elapsed: 12.6min remaining:    0.0s\n",
            "[CV] penalty=l1, C=2.06981934682 .....................................\n",
            "[CV]  penalty=l1, C=2.06981934682, score=0.847266666667, total= 6.1min\n",
            "[Parallel(n_jobs=1)]: Done   5 out of   5 | elapsed: 18.7min remaining:    0.0s\n",
            "[CV] penalty=l1, C=2.06981934682 .....................................\n",
            "[CV]  penalty=l1, C=2.06981934682, score=0.850170034007, total= 6.0min\n",
            "[Parallel(n_jobs=1)]: Done   6 out of   6 | elapsed: 24.8min remaining:    0.0s\n",
            "[CV] penalty=l2, C=0.000225418184179 .................................\n",
            "[CV]  penalty=l2, C=0.000225418184179, score=0.759314803706, total=  18.9s\n",
            "[Parallel(n_jobs=1)]: Done   7 out of   7 | elapsed: 25.1min remaining:    0.0s\n",
            "[CV] penalty=l2, C=0.000225418184179 .................................\n",
            "[CV] .... penalty=l2, C=0.000225418184179, score=0.7656, total=  17.9s\n",
            "[Parallel(n_jobs=1)]: Done   8 out of   8 | elapsed: 25.4min remaining:    0.0s\n",
            "[CV] penalty=l2, C=0.000225418184179 .................................\n",
            "[CV]  penalty=l2, C=0.000225418184179, score=0.765153030606, total=  20.0s\n",
            "[Parallel(n_jobs=1)]: Done   9 out of   9 | elapsed: 25.7min remaining:    0.0s\n",
            "[CV] penalty=l1, C=0.000225418184179 .................................\n",
            "[CV]  penalty=l1, C=0.000225418184179, score=0.100046657335, total=   6.0s\n",
            "[Parallel(n_jobs=1)]: Done  10 out of  10 | elapsed: 25.8min remaining:    0.0s\n",
            "[CV] penalty=l1, C=0.000225418184179 .................................\n",
            "[CV] .... penalty=l1, C=0.000225418184179, score=0.1016, total=   6.0s\n",
            "[Parallel(n_jobs=1)]: Done  11 out of  11 | elapsed: 25.9min remaining:    0.0s\n",
            "[CV] penalty=l1, C=0.000225418184179 .................................\n",
            "[CV]  penalty=l1, C=0.000225418184179, score=0.101620324065, total=   7.8s\n",
            "[Parallel(n_jobs=1)]: Done  12 out of  12 | elapsed: 26.0min remaining:    0.0s\n",
            "[CV] penalty=l2, C=0.657042826511 ....................................\n",
            "[CV]  penalty=l2, C=0.657042826511, score=0.849830033993, total= 2.2min\n",
            "[Parallel(n_jobs=1)]: Done  13 out of  13 | elapsed: 28.2min remaining:    0.0s\n",
            "[CV] penalty=l2, C=0.657042826511 ....................................\n",
            "[CV] ....... penalty=l2, C=0.657042826511, score=0.8498, total= 2.2min\n",
            "[Parallel(n_jobs=1)]: Done  14 out of  14 | elapsed: 30.4min remaining:    0.0s\n",
            "[CV] penalty=l2, C=0.657042826511 ....................................\n",
            "[CV]  penalty=l2, C=0.657042826511, score=0.85150363406, total= 2.2min\n",
            "[Parallel(n_jobs=1)]: Done  15 out of  15 | elapsed: 32.5min remaining:    0.0s\n",
            "[CV] penalty=l1, C=0.657042826511 ....................................\n",
            "[CV]  penalty=l1, C=0.657042826511, score=0.852162900753, total= 4.8min\n",
            "[Parallel(n_jobs=1)]: Done  16 out of  16 | elapsed: 37.4min remaining:    0.0s\n",
            "[CV] penalty=l1, C=0.657042826511 ....................................\n",
            "[CV] ....... penalty=l1, C=0.657042826511, score=0.8512, total= 4.6min\n",
            "[Parallel(n_jobs=1)]: Done  17 out of  17 | elapsed: 41.9min remaining:    0.0s\n",
            "[CV] penalty=l1, C=0.657042826511 ....................................\n",
            "[CV]  penalty=l1, C=0.657042826511, score=0.853570714143, total= 4.8min\n",
            "[Parallel(n_jobs=1)]: Done  18 out of  18 | elapsed: 46.7min remaining:    0.0s\n",
            "[CV] penalty=l2, C=3.62404202251 .....................................\n",
            "[CV]  penalty=l2, C=3.62404202251, score=0.847830433913, total= 2.2min\n",
            "[Parallel(n_jobs=1)]: Done  19 out of  19 | elapsed: 48.9min remaining:    0.0s\n",
            "[CV] penalty=l2, C=3.62404202251 .....................................\n",
            "[CV]  penalty=l2, C=3.62404202251, score=0.848466666667, total= 2.3min\n",
            "[Parallel(n_jobs=1)]: Done  20 out of  20 | elapsed: 51.2min remaining:    0.0s\n",
            "[CV] penalty=l2, C=3.62404202251 .....................................\n",
            "[CV]  penalty=l2, C=3.62404202251, score=0.850370074015, total= 2.2min\n",
            "[Parallel(n_jobs=1)]: Done  21 out of  21 | elapsed: 53.4min remaining:    0.0s\n",
            "[CV] penalty=l1, C=3.62404202251 .....................................\n",
            "[CV]  penalty=l1, C=3.62404202251, score=0.845630873825, total= 5.9min\n",
            "[Parallel(n_jobs=1)]: Done  22 out of  22 | elapsed: 59.3min remaining:    0.0s\n",
            "[CV] penalty=l1, C=3.62404202251 .....................................\n",
            "[CV] ........ penalty=l1, C=3.62404202251, score=0.8472, total= 6.1min\n",
            "[Parallel(n_jobs=1)]: Done  23 out of  23 | elapsed: 65.5min remaining:    0.0s\n",
            "[CV] penalty=l1, C=3.62404202251 .....................................\n",
            "[CV]  penalty=l1, C=3.62404202251, score=0.848703073948, total= 6.0min\n",
            "[Parallel(n_jobs=1)]: Done  24 out of  24 | elapsed: 71.5min remaining:    0.0s\n",
            "[Parallel(n_jobs=1)]: Done  24 out of  24 | elapsed: 71.5min finished\n"
          ],
          "name": "stdout"
        },
        {
          "output_type": "stream",
          "text": [
            "/usr/local/lib/python2.7/dist-packages/sklearn/linear_model/sag.py:334: ConvergenceWarning: The max_iter was reached which means the coef_ did not converge\n",
            "  \"the coef_ did not converge\", ConvergenceWarning)\n"
          ],
          "name": "stderr"
        }
      ]
    },
    {
      "cell_type": "code",
      "metadata": {
        "id": "hR8qeMt8jneP",
        "colab": {
          "base_uri": "https://localhost:8080/",
          "height": 119
        },
        "outputId": "53e77604-c76e-4e0d-fa86-bcd5f40d56be"
      },
      "source": [
        "print(clf.best_estimator_)\n",
        "print(clf.best_score_)\n",
        "#0.8523111111111111"
      ],
      "execution_count": null,
      "outputs": [
        {
          "output_type": "stream",
          "text": [
            "LogisticRegression(C=0.657042826511, class_weight=None, dual=False,\n",
            "          fit_intercept=True, intercept_scaling=1, max_iter=100,\n",
            "          multi_class='multinomial', n_jobs=2, penalty='l1',\n",
            "          random_state=None, solver='saga', tol=0.001, verbose=0,\n",
            "          warm_start=False)\n",
            "0.8523111111111111\n"
          ],
          "name": "stdout"
        }
      ]
    },
    {
      "cell_type": "code",
      "metadata": {
        "id": "Tnd3HH_5jneQ",
        "colab": {
          "base_uri": "https://localhost:8080/",
          "height": 51
        },
        "outputId": "84f8bc64-129d-464a-cb89-668039e77531"
      },
      "source": [
        "%%time\n",
        "# Wall time: 2min 50s\n",
        "best_clf = clf.best_estimator_\n",
        "best_clf.fit(X_1,y_1)"
      ],
      "execution_count": null,
      "outputs": [
        {
          "output_type": "stream",
          "text": [
            "CPU times: user 7min 13s, sys: 155 ms, total: 7min 13s\n",
            "Wall time: 7min 13s\n"
          ],
          "name": "stdout"
        }
      ]
    },
    {
      "cell_type": "code",
      "metadata": {
        "id": "iTeYsfa0jneS",
        "colab": {
          "base_uri": "https://localhost:8080/",
          "height": 68
        },
        "outputId": "86c2bd0f-1bb3-421a-bcf8-cfcbd14eac7b"
      },
      "source": [
        "%%time\n",
        "y_predLR = best_clf.predict(X_test)\n",
        "acc = accuracy_score(y_test,y_predLR)\n",
        "print(acc)\n",
        "#0.8548666666666667"
      ],
      "execution_count": null,
      "outputs": [
        {
          "output_type": "stream",
          "text": [
            "0.8548666666666667\n",
            "CPU times: user 181 ms, sys: 6.99 ms, total: 188 ms\n",
            "Wall time: 130 ms\n"
          ],
          "name": "stdout"
        }
      ]
    },
    {
      "cell_type": "markdown",
      "metadata": {
        "id": "1haHZb0xjneU"
      },
      "source": [
        "#Decision Tress Classifier"
      ]
    },
    {
      "cell_type": "code",
      "metadata": {
        "id": "kQ3FItOhjneV",
        "colab": {
          "base_uri": "https://localhost:8080/",
          "height": 68
        },
        "outputId": "8edd7cae-d727-4f47-b2e5-6f21fe34ea1c"
      },
      "source": [
        "%%time\n",
        "# Wall time: 1min 54s\n",
        "maxDepth = [4,6,8,10,12,15,20,30,50,80, 120]\n",
        "trainAcc = []\n",
        "CVAcc = []\n",
        "for depth in tqdm(maxDepth):\n",
        "    clfDT = DecisionTreeClassifier(criterion='gini',max_depth = depth)\n",
        "    clfDT.fit(X_train, y_train)\n",
        "    y_predDTtrain = clfDT.predict(X_train)\n",
        "    y_predDTcv = clfDT.predict(X_cv)\n",
        "    accTr = accuracy_score(y_train, y_predDTtrain)\n",
        "    accCv = accuracy_score(y_cv, y_predDTcv)\n",
        "    trainAcc.append(accTr)\n",
        "    CVAcc.append(accCv)    "
      ],
      "execution_count": null,
      "outputs": [
        {
          "output_type": "stream",
          "text": [
            "100%|██████████| 11/11 [00:59<00:00,  7.01s/it]"
          ],
          "name": "stderr"
        },
        {
          "output_type": "stream",
          "text": [
            "CPU times: user 59.5 s, sys: 55.7 ms, total: 59.6 s\n",
            "Wall time: 59.7 s\n"
          ],
          "name": "stdout"
        },
        {
          "output_type": "stream",
          "text": [
            "\n"
          ],
          "name": "stderr"
        }
      ]
    },
    {
      "cell_type": "code",
      "metadata": {
        "id": "SOWXQ2x9jneX",
        "colab": {
          "base_uri": "https://localhost:8080/",
          "height": 71
        },
        "outputId": "854b95b9-e34b-491d-8687-861d99d17a77"
      },
      "source": [
        "print(trainAcc)\n",
        "print(CVAcc)"
      ],
      "execution_count": null,
      "outputs": [
        {
          "output_type": "stream",
          "text": [
            "[0.6329761904761905, 0.7385714285714285, 0.8384920634920635, 0.9097619047619048, 0.9556746031746032, 0.9851587301587301, 0.9958730158730159, 0.9993253968253968, 1.0, 1.0, 1.0]\n",
            "[0.6395238095238095, 0.7398412698412699, 0.813015873015873, 0.8433333333333334, 0.849047619047619, 0.856984126984127, 0.8520634920634921, 0.8455555555555555, 0.8463492063492063, 0.8482539682539683, 0.8473015873015873]\n"
          ],
          "name": "stdout"
        }
      ]
    },
    {
      "cell_type": "code",
      "metadata": {
        "id": "OCY1RcP0jneZ"
      },
      "source": [
        "def plotCVandTrainAccuracyAndError(CVAcc,trainAcc,maxDepth):\n",
        "    fig = plt.figure(figsize = (10,5))\n",
        "    ax = plt.subplot(1,2,1)\n",
        "    ax.set_xlabel('Maximum Depth', fontsize = 10)\n",
        "    ax.set_ylabel('Accuracy', fontsize = 10)\n",
        "    ax.set_title('Check fitting of model', fontsize = 10)\n",
        "    \n",
        "    plt.plot(maxDepth,CVAcc,label='CV Accuracy')\n",
        "    plt.plot(maxDepth,trainAcc,label='train Accuracy')\n",
        "    ax.legend()\n",
        "    \n",
        "    trainError = [1-x for x in trainAcc]\n",
        "    CVError    = [1-x for x in CVAcc]\n",
        "    ax = plt.subplot(1,2,2)\n",
        "    ax.set_xlabel('Maximum Depth', fontsize = 10)\n",
        "    ax.set_ylabel('Error', fontsize = 10)\n",
        "    ax.set_title('Check fitting of model', fontsize = 10)\n",
        "    \n",
        "    plt.plot(maxDepth,CVError,label='CV Error')\n",
        "    plt.plot(maxDepth,trainError,label='train Error')\n",
        "    ax.legend()"
      ],
      "execution_count": null,
      "outputs": []
    },
    {
      "cell_type": "code",
      "metadata": {
        "id": "bleZ98F-jneb",
        "colab": {
          "base_uri": "https://localhost:8080/",
          "height": 348
        },
        "outputId": "fe0d31f7-0ae9-4fe9-f917-2e49c88651a2"
      },
      "source": [
        "plotCVandTrainAccuracyAndError(CVAcc,trainAcc,maxDepth)"
      ],
      "execution_count": null,
      "outputs": [
        {
          "output_type": "display_data",
          "data": {
            "image/png": "[encoded data removed]",
            "text/plain": [
              "<Figure size 720x360 with 2 Axes>"
            ]
          },
          "metadata": {
            "tags": [],
            "needs_background": "light"
          }
        }
      ]
    },
    {
      "cell_type": "code",
      "metadata": {
        "id": "pBRsAfzUjnee"
      },
      "source": [
        "clfDT = DecisionTreeClassifier(criterion='gini',max_depth = 15)\n",
        "clfDT.fit(X_train, y_train)\n",
        "y_pred = clfDT.predict(X_test)\n",
        "\n",
        "print(\"Final Accuracy DT: \",accuracy_score(y_test,y_pred))"
      ],
      "execution_count": null,
      "outputs": []
    },
    {
      "cell_type": "markdown",
      "metadata": {
        "id": "IdJKXoIKjneg"
      },
      "source": [
        "![Capture.PNG](attachment:Capture.PNG)"
      ]
    },
    {
      "cell_type": "markdown",
      "metadata": {
        "id": "2fNdiNjwjneh"
      },
      "source": [
        "#Random Forest Classifier\n"
      ]
    },
    {
      "cell_type": "code",
      "metadata": {
        "id": "vrDO3ncejneh"
      },
      "source": [
        "NoEstimators = [50,70,100,130,150,190,230,290,370,450,550,700]\n",
        "trainAcc = []\n",
        "CVAcc = []"
      ],
      "execution_count": null,
      "outputs": []
    },
    {
      "cell_type": "code",
      "metadata": {
        "id": "xkcXY1KMjnej",
        "colab": {
          "base_uri": "https://localhost:8080/",
          "height": 34
        },
        "outputId": "759038c3-517d-4dce-d204-b7dcabdfe207"
      },
      "source": [
        "for est in tqdm(NoEstimators):\n",
        "    clfRF = RandomForestClassifier(n_estimators=est, criterion='gini')\n",
        "    clfRF.fit(X_train, y_train)\n",
        "    y_predRFtrain = clfRF.predict(X_train)\n",
        "    y_predRFcv = clfRF.predict(X_cv)\n",
        "    accTr = accuracy_score(y_train, y_predRFtrain)\n",
        "    accCv = accuracy_score(y_cv, y_predRFcv)\n",
        "    trainAcc.append(accTr)\n",
        "    CVAcc.append(accCv) "
      ],
      "execution_count": null,
      "outputs": [
        {
          "output_type": "stream",
          "text": [
            "100%|██████████| 12/12 [35:16<00:00, 308.24s/it]\n"
          ],
          "name": "stderr"
        }
      ]
    },
    {
      "cell_type": "code",
      "metadata": {
        "id": "_GDQtmNDjnel",
        "colab": {
          "base_uri": "https://localhost:8080/",
          "height": 348
        },
        "outputId": "a2b1cdbe-4d65-4955-e73c-b42e054770bb"
      },
      "source": [
        "plotCVandTrainAccuracyAndError(CVAcc,trainAcc,NoEstimators)"
      ],
      "execution_count": null,
      "outputs": [
        {
          "output_type": "display_data",
          "data": {
            "image/png": "[encoded data removed]",
            "text/plain": [
              "<Figure size 720x360 with 2 Axes>"
            ]
          },
          "metadata": {
            "tags": [],
            "needs_background": "light"
          }
        }
      ]
    },
    {
      "cell_type": "code",
      "metadata": {
        "id": "OjqXRhNDjneo",
        "colab": {
          "base_uri": "https://localhost:8080/",
          "height": 34
        },
        "outputId": "7e3690ee-3fde-4b88-c4f1-d3afededd59d"
      },
      "source": [
        "maxAccuracy = max(CVAcc)\n",
        "maxAccuracy\n",
        "#0.8804444444444445(@700)"
      ],
      "execution_count": null,
      "outputs": [
        {
          "output_type": "execute_result",
          "data": {
            "text/plain": [
              "0.8804444444444445"
            ]
          },
          "metadata": {
            "tags": []
          },
          "execution_count": 21
        }
      ]
    },
    {
      "cell_type": "code",
      "metadata": {
        "id": "JAKsuW4GP5Bl",
        "colab": {
          "base_uri": "https://localhost:8080/",
          "height": 71
        },
        "outputId": "80a4c393-abe5-41fd-931a-6897ef075dab"
      },
      "source": [
        "print(NoEstimators)\n",
        "print(CVAcc)"
      ],
      "execution_count": null,
      "outputs": [
        {
          "output_type": "stream",
          "text": [
            "[50, 70, 100, 130, 150, 190, 230, 290, 370, 450, 550, 700]\n",
            "[0.8751111111111111, 0.8758888888888889, 0.8745555555555555, 0.8757777777777778, 0.8747777777777778, 0.8764444444444445, 0.88, 0.8785555555555555, 0.8781111111111111, 0.8773333333333333, 0.8787777777777778, 0.8804444444444445]\n"
          ],
          "name": "stdout"
        }
      ]
    },
    {
      "cell_type": "code",
      "metadata": {
        "id": "M1p8Y_wxjnep",
        "colab": {
          "base_uri": "https://localhost:8080/",
          "height": 34
        },
        "outputId": "8f6b5866-3827-4cc4-cc6a-f2f34bdb1e3f"
      },
      "source": [
        "clfRF = RandomForestClassifier(n_estimators=370, criterion='gini')\n",
        "clfRF.fit(X_train, y_train)\n",
        "y_predRF = clfRF.predict(X_test)\n",
        "print(\"Final Accuracy RF: \",accuracy_score(y_test,y_predRF))\n",
        "#0.8838"
      ],
      "execution_count": null,
      "outputs": [
        {
          "output_type": "stream",
          "text": [
            "('Final Accuracy RF: ', 0.8838)\n"
          ],
          "name": "stdout"
        }
      ]
    },
    {
      "cell_type": "markdown",
      "metadata": {
        "id": "cDl7xC25jner"
      },
      "source": [
        "#XGBOOST"
      ]
    },
    {
      "cell_type": "code",
      "metadata": {
        "id": "wqHk-PQYjner"
      },
      "source": [
        "!pip install xgboost"
      ],
      "execution_count": null,
      "outputs": []
    },
    {
      "cell_type": "code",
      "metadata": {
        "id": "ZE3mNriijnet"
      },
      "source": [
        "etaVals = [0.1,0.3,0.5,0.6,0.8,0.9] # Shrinkage parameter as hyperparameter\n",
        "#max_depth parameter we are changing as we know increasing this value may turn model into overfit\n",
        "trainAcc = []\n",
        "CVAcc = []\n",
        "for e in etaVals:\n",
        "    model = XGBClassifier(eta = e, nthread = 2)\n",
        "    model.fit(X_train,y_train)\n",
        "    y_predXGtrain = model.predict(X_train)\n",
        "    y_predXGcv = model.predict(X_cv)\n",
        "    accTr = accuracy_score(y_train, y_predXGtrain)\n",
        "    accCv = accuracy_score(y_cv, y_predXGcv)\n",
        "    trainAcc.append(accTr)\n",
        "    CVAcc.append(accCv)     "
      ],
      "execution_count": null,
      "outputs": []
    },
    {
      "cell_type": "code",
      "metadata": {
        "id": "g2RbxZv3jnev"
      },
      "source": [
        "plotCVandTrainAccuracyAndError(CVAcc,trainAcc,etaVals)"
      ],
      "execution_count": null,
      "outputs": []
    },
    {
      "cell_type": "code",
      "metadata": {
        "id": "JcxVJT-Wjnew"
      },
      "source": [
        "def plotTestandTrainAccuracyAndError(TestAcc,trainAcc,maxDepth):\n",
        "    fig = plt.figure(figsize = (10,5))\n",
        "    ax = plt.subplot(1,2,1)\n",
        "    ax.set_xlabel('Maximum Depth', fontsize = 10)\n",
        "    ax.set_ylabel('Accuracy', fontsize = 10)\n",
        "    ax.set_title('Check fitting of model', fontsize = 10)\n",
        "    \n",
        "    plt.plot(maxDepth,TestAcc,label='Test Accuracy')\n",
        "    plt.plot(maxDepth,trainAcc,label='train Accuracy')\n",
        "    ax.legend()\n",
        "    \n",
        "    trainError = [1-x for x in trainAcc]\n",
        "    TestError    = [1-x for x in TestAcc]\n",
        "    ax = plt.subplot(1,2,2)\n",
        "    ax.set_xlabel('Maximum Depth', fontsize = 10)\n",
        "    ax.set_ylabel('Error', fontsize = 10)\n",
        "    ax.set_title('Check fitting of model', fontsize = 10)\n",
        "    \n",
        "    plt.plot(maxDepth,TestError,label='Test Error')\n",
        "    plt.plot(maxDepth,trainError,label='train Error')\n",
        "    ax.legend()"
      ],
      "execution_count": null,
      "outputs": []
    },
    {
      "cell_type": "code",
      "metadata": {
        "id": "jkiqA4qajney"
      },
      "source": [
        "TestAcc = []\n",
        "for e in tqdm(etaVals):\n",
        "    model = XGBClassifier(eta = e, nthread = 2)\n",
        "    model.fit(X_train,y_train)\n",
        "    y_predXGTest = model.predict(X_test)\n",
        "    accTest = accuracy_score(y_test, y_predXGTest)\n",
        "    TestAcc.append(accTest)\n",
        "\n",
        "plotTestandTrainAccuracyAndError(TestAcc,trainAcc,etaVals)"
      ],
      "execution_count": null,
      "outputs": []
    },
    {
      "cell_type": "markdown",
      "metadata": {
        "id": "dnQacr_Ajne0"
      },
      "source": [
        "# Final Accuracies\n",
        "    1. KNN                   0.94066  \n",
        "    2. Logistic Regression   0.9125\n",
        "    3. SVM                   0.95819\n",
        "    4. Decision Tree         0.84923\n",
        "    5. Random Forest         0.964\n",
        "    6. XGBOOST               0.9325"
      ]
    },
    {
      "cell_type": "code",
      "metadata": {
        "id": "zgT1X2O7jne0"
      },
      "source": [
        ""
      ],
      "execution_count": null,
      "outputs": []
    }
  ]
}